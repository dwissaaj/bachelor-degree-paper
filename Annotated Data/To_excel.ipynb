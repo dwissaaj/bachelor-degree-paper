{
 "cells": [
  {
   "cell_type": "code",
   "execution_count": 30,
   "metadata": {
    "collapsed": true
   },
   "outputs": [],
   "source": [
    "import pandas as pd"
   ]
  },
  {
   "cell_type": "code",
   "execution_count": 32,
   "outputs": [
    {
     "data": {
      "text/plain": "                                                   text  label\n0                              pengen pasang dm ya guys      0\n1              min kalo pasang gak ya takutnya berbulan      2\n2      tolong rek bayarku larang ho bendino mbrebet cok      2\n3                                    restart otaknya kk      2\n4                              kalo putus nyambung wkwk      2\n...                                                 ...    ...\n2469  halooo mengisi paket data dana terpotong tp ak...      0\n2470  sinyal telkomsel lemot sinyalnya dikumpulin lo...      2\n2471  berembe kabar selama depan telkomsel lokasi ac...      1\n2472  hai kak alfiyan maaf terkait akses internet la...      0\n2473  prediksi peandingan bola bayern munchen vs uni...      0\n\n[2474 rows x 2 columns]",
      "text/html": "<div>\n<style scoped>\n    .dataframe tbody tr th:only-of-type {\n        vertical-align: middle;\n    }\n\n    .dataframe tbody tr th {\n        vertical-align: top;\n    }\n\n    .dataframe thead th {\n        text-align: right;\n    }\n</style>\n<table border=\"1\" class=\"dataframe\">\n  <thead>\n    <tr style=\"text-align: right;\">\n      <th></th>\n      <th>text</th>\n      <th>label</th>\n    </tr>\n  </thead>\n  <tbody>\n    <tr>\n      <th>0</th>\n      <td>pengen pasang dm ya guys</td>\n      <td>0</td>\n    </tr>\n    <tr>\n      <th>1</th>\n      <td>min kalo pasang gak ya takutnya berbulan</td>\n      <td>2</td>\n    </tr>\n    <tr>\n      <th>2</th>\n      <td>tolong rek bayarku larang ho bendino mbrebet cok</td>\n      <td>2</td>\n    </tr>\n    <tr>\n      <th>3</th>\n      <td>restart otaknya kk</td>\n      <td>2</td>\n    </tr>\n    <tr>\n      <th>4</th>\n      <td>kalo putus nyambung wkwk</td>\n      <td>2</td>\n    </tr>\n    <tr>\n      <th>...</th>\n      <td>...</td>\n      <td>...</td>\n    </tr>\n    <tr>\n      <th>2469</th>\n      <td>halooo mengisi paket data dana terpotong tp ak...</td>\n      <td>0</td>\n    </tr>\n    <tr>\n      <th>2470</th>\n      <td>sinyal telkomsel lemot sinyalnya dikumpulin lo...</td>\n      <td>2</td>\n    </tr>\n    <tr>\n      <th>2471</th>\n      <td>berembe kabar selama depan telkomsel lokasi ac...</td>\n      <td>1</td>\n    </tr>\n    <tr>\n      <th>2472</th>\n      <td>hai kak alfiyan maaf terkait akses internet la...</td>\n      <td>0</td>\n    </tr>\n    <tr>\n      <th>2473</th>\n      <td>prediksi peandingan bola bayern munchen vs uni...</td>\n      <td>0</td>\n    </tr>\n  </tbody>\n</table>\n<p>2474 rows × 2 columns</p>\n</div>"
     },
     "execution_count": 32,
     "metadata": {},
     "output_type": "execute_result"
    }
   ],
   "source": [
    "data = pd.read_excel(\"dataset.xlsx\",)\n",
    "data"
   ],
   "metadata": {
    "collapsed": false,
    "pycharm": {
     "name": "#%%\n"
    }
   }
  },
  {
   "cell_type": "code",
   "execution_count": 33,
   "outputs": [],
   "source": [
    "data.to_csv(\"data1.csv\",sep=\",\",index=False)"
   ],
   "metadata": {
    "collapsed": false,
    "pycharm": {
     "name": "#%%\n"
    }
   }
  },
  {
   "cell_type": "code",
   "execution_count": 34,
   "outputs": [
    {
     "data": {
      "text/plain": "text     object\nlabel     int64\ndtype: object"
     },
     "execution_count": 34,
     "metadata": {},
     "output_type": "execute_result"
    }
   ],
   "source": [
    "data.dtypes"
   ],
   "metadata": {
    "collapsed": false,
    "pycharm": {
     "name": "#%%\n"
    }
   }
  },
  {
   "cell_type": "code",
   "execution_count": 26,
   "outputs": [
    {
     "name": "stdout",
     "output_type": "stream",
     "text": [
      "Unnamed: 0\n",
      "text\n",
      "label\n"
     ]
    }
   ],
   "source": [
    "df4 = pd.read_csv(\"data.csv\")\n",
    "for col in df4.columns:\n",
    "    print(col)"
   ],
   "metadata": {
    "collapsed": false,
    "pycharm": {
     "name": "#%%\n"
    }
   }
  },
  {
   "cell_type": "code",
   "execution_count": 27,
   "outputs": [
    {
     "data": {
      "text/plain": "                                                   text  label\n0                              pengen pasang dm ya guys      0\n1              min kalo pasang gak ya takutnya berbulan      2\n2      tolong rek bayarku larang ho bendino mbrebet cok      2\n3                                    restart otaknya kk      2\n4                              kalo putus nyambung wkwk      2\n...                                                 ...    ...\n2469  halooo mengisi paket data dana terpotong tp ak...      0\n2470  sinyal telkomsel lemot sinyalnya dikumpulin lo...      2\n2471  berembe kabar selama depan telkomsel lokasi ac...      1\n2472  hai kak alfiyan maaf terkait akses internet la...      0\n2473  prediksi peandingan bola bayern munchen vs uni...      0\n\n[2474 rows x 2 columns]",
      "text/html": "<div>\n<style scoped>\n    .dataframe tbody tr th:only-of-type {\n        vertical-align: middle;\n    }\n\n    .dataframe tbody tr th {\n        vertical-align: top;\n    }\n\n    .dataframe thead th {\n        text-align: right;\n    }\n</style>\n<table border=\"1\" class=\"dataframe\">\n  <thead>\n    <tr style=\"text-align: right;\">\n      <th></th>\n      <th>text</th>\n      <th>label</th>\n    </tr>\n  </thead>\n  <tbody>\n    <tr>\n      <th>0</th>\n      <td>pengen pasang dm ya guys</td>\n      <td>0</td>\n    </tr>\n    <tr>\n      <th>1</th>\n      <td>min kalo pasang gak ya takutnya berbulan</td>\n      <td>2</td>\n    </tr>\n    <tr>\n      <th>2</th>\n      <td>tolong rek bayarku larang ho bendino mbrebet cok</td>\n      <td>2</td>\n    </tr>\n    <tr>\n      <th>3</th>\n      <td>restart otaknya kk</td>\n      <td>2</td>\n    </tr>\n    <tr>\n      <th>4</th>\n      <td>kalo putus nyambung wkwk</td>\n      <td>2</td>\n    </tr>\n    <tr>\n      <th>...</th>\n      <td>...</td>\n      <td>...</td>\n    </tr>\n    <tr>\n      <th>2469</th>\n      <td>halooo mengisi paket data dana terpotong tp ak...</td>\n      <td>0</td>\n    </tr>\n    <tr>\n      <th>2470</th>\n      <td>sinyal telkomsel lemot sinyalnya dikumpulin lo...</td>\n      <td>2</td>\n    </tr>\n    <tr>\n      <th>2471</th>\n      <td>berembe kabar selama depan telkomsel lokasi ac...</td>\n      <td>1</td>\n    </tr>\n    <tr>\n      <th>2472</th>\n      <td>hai kak alfiyan maaf terkait akses internet la...</td>\n      <td>0</td>\n    </tr>\n    <tr>\n      <th>2473</th>\n      <td>prediksi peandingan bola bayern munchen vs uni...</td>\n      <td>0</td>\n    </tr>\n  </tbody>\n</table>\n<p>2474 rows × 2 columns</p>\n</div>"
     },
     "execution_count": 27,
     "metadata": {},
     "output_type": "execute_result"
    }
   ],
   "source": [
    "df4.drop(['Unnamed: 0'],axis=1)\n"
   ],
   "metadata": {
    "collapsed": false,
    "pycharm": {
     "name": "#%%\n"
    }
   }
  },
  {
   "cell_type": "code",
   "execution_count": 29,
   "outputs": [],
   "source": [
    "df4.to_csv(\"test.csv\",sep=\",\",index=False)\n"
   ],
   "metadata": {
    "collapsed": false,
    "pycharm": {
     "name": "#%%\n"
    }
   }
  }
 ],
 "metadata": {
  "kernelspec": {
   "display_name": "Python 3",
   "language": "python",
   "name": "python3"
  },
  "language_info": {
   "codemirror_mode": {
    "name": "ipython",
    "version": 2
   },
   "file_extension": ".py",
   "mimetype": "text/x-python",
   "name": "python",
   "nbconvert_exporter": "python",
   "pygments_lexer": "ipython2",
   "version": "2.7.6"
  }
 },
 "nbformat": 4,
 "nbformat_minor": 0
}