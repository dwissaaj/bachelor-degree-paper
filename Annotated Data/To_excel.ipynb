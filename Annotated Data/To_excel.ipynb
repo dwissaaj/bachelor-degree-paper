{
 "cells": [
  {
   "cell_type": "code",
   "execution_count": 1,
   "metadata": {
    "collapsed": true
   },
   "outputs": [],
   "source": [
    "import pandas as pd"
   ]
  },
  {
   "cell_type": "code",
   "execution_count": 2,
   "outputs": [],
   "source": [
    "data = pd.read_excel(\"data hugginface.xlsx\")"
   ],
   "metadata": {
    "collapsed": false
   }
  },
  {
   "cell_type": "code",
   "execution_count": 3,
   "outputs": [
    {
     "name": "stdout",
     "output_type": "stream",
     "text": [
      "tweet\n",
      "sentiment\n",
      "label\n",
      "score\n"
     ]
    }
   ],
   "source": [
    "for col in data.columns:\n",
    "    print(col)"
   ],
   "metadata": {
    "collapsed": false
   }
  },
  {
   "cell_type": "code",
   "execution_count": 4,
   "outputs": [
    {
     "data": {
      "text/plain": "                                               tweet sentiment  label  \\\n0  RT @sukajajan_x: Baju kemeja motif untuk kulia...   neutral      1   \n1  RT @LOKALVideo08: abang sales gue grepein di m...   neutral      1   \n2  RT @hazelssie: ☁️totebag kiyowo☁️\\n\\n⭐️4.9 htt...   neutral      1   \n3  @citrabellana Malam minggu ja yang kada mampu ...   neutral      1   \n4  RT @cosxinus: Tas sling bag canvas buat coolye...   neutral      1   \n\n      score  \n0  0.947212  \n1  0.985920  \n2  0.977968  \n3  0.961750  \n4  0.950132  ",
      "text/html": "<div>\n<style scoped>\n    .dataframe tbody tr th:only-of-type {\n        vertical-align: middle;\n    }\n\n    .dataframe tbody tr th {\n        vertical-align: top;\n    }\n\n    .dataframe thead th {\n        text-align: right;\n    }\n</style>\n<table border=\"1\" class=\"dataframe\">\n  <thead>\n    <tr style=\"text-align: right;\">\n      <th></th>\n      <th>tweet</th>\n      <th>sentiment</th>\n      <th>label</th>\n      <th>score</th>\n    </tr>\n  </thead>\n  <tbody>\n    <tr>\n      <th>0</th>\n      <td>RT @sukajajan_x: Baju kemeja motif untuk kulia...</td>\n      <td>neutral</td>\n      <td>1</td>\n      <td>0.947212</td>\n    </tr>\n    <tr>\n      <th>1</th>\n      <td>RT @LOKALVideo08: abang sales gue grepein di m...</td>\n      <td>neutral</td>\n      <td>1</td>\n      <td>0.985920</td>\n    </tr>\n    <tr>\n      <th>2</th>\n      <td>RT @hazelssie: ☁️totebag kiyowo☁️\\n\\n⭐️4.9 htt...</td>\n      <td>neutral</td>\n      <td>1</td>\n      <td>0.977968</td>\n    </tr>\n    <tr>\n      <th>3</th>\n      <td>@citrabellana Malam minggu ja yang kada mampu ...</td>\n      <td>neutral</td>\n      <td>1</td>\n      <td>0.961750</td>\n    </tr>\n    <tr>\n      <th>4</th>\n      <td>RT @cosxinus: Tas sling bag canvas buat coolye...</td>\n      <td>neutral</td>\n      <td>1</td>\n      <td>0.950132</td>\n    </tr>\n  </tbody>\n</table>\n</div>"
     },
     "execution_count": 4,
     "metadata": {},
     "output_type": "execute_result"
    }
   ],
   "source": [
    "data.head()"
   ],
   "metadata": {
    "collapsed": false
   }
  },
  {
   "cell_type": "code",
   "execution_count": 5,
   "outputs": [
    {
     "data": {
      "text/plain": "0        1\n1        1\n2        1\n3        1\n4        1\n        ..\n25185    1\n25186    2\n25187    2\n25188    1\n25189    1\nName: label, Length: 25190, dtype: int32"
     },
     "execution_count": 5,
     "metadata": {},
     "output_type": "execute_result"
    }
   ],
   "source": [
    "data['label'].astype(int)"
   ],
   "metadata": {
    "collapsed": false
   }
  },
  {
   "cell_type": "code",
   "execution_count": 6,
   "outputs": [
    {
     "data": {
      "text/plain": "tweet         object\nsentiment     object\nlabel          int64\nscore        float64\ndtype: object"
     },
     "execution_count": 6,
     "metadata": {},
     "output_type": "execute_result"
    }
   ],
   "source": [
    "data.dtypes"
   ],
   "metadata": {
    "collapsed": false
   }
  },
  {
   "cell_type": "code",
   "execution_count": 7,
   "outputs": [],
   "source": [
    "data.to_csv(\"dataset  hugginface.csv\",sep=',',index=False)\n"
   ],
   "metadata": {
    "collapsed": false
   }
  },
  {
   "cell_type": "code",
   "execution_count": null,
   "outputs": [],
   "source": [],
   "metadata": {
    "collapsed": false
   }
  }
 ],
 "metadata": {
  "kernelspec": {
   "display_name": "Python 3",
   "language": "python",
   "name": "python3"
  },
  "language_info": {
   "codemirror_mode": {
    "name": "ipython",
    "version": 2
   },
   "file_extension": ".py",
   "mimetype": "text/x-python",
   "name": "python",
   "nbconvert_exporter": "python",
   "pygments_lexer": "ipython2",
   "version": "2.7.6"
  }
 },
 "nbformat": 4,
 "nbformat_minor": 0
}
