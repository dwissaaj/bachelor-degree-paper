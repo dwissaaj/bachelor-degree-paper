{
 "cells": [
  {
   "cell_type": "code",
   "execution_count": 2,
   "metadata": {
    "collapsed": true,
    "pycharm": {
     "name": "#%%\n"
    }
   },
   "outputs": [],
   "source": [
    "from Unsupervised.funcm import functions\n",
    "\n",
    "fc = functions()"
   ]
  },
  {
   "cell_type": "code",
   "execution_count": 3,
   "outputs": [],
   "source": [
    "df = fc.load_data(\"../Dataset/Book1.xlsx\")\n",
    "df_drop = df.drop_duplicates()"
   ],
   "metadata": {
    "collapsed": false,
    "pycharm": {
     "name": "#%%\n"
    }
   }
  },
  {
   "cell_type": "code",
   "execution_count": 4,
   "outputs": [],
   "source": [
    "df_user = fc.remove_username(df_drop,\"tweet\")\n",
    "df_cleaning = fc.cleaning_data(df_user,\"tweet\",True)\n",
    "df_clean = fc.remove_stopwords(df_cleaning,\"tweet\",\"indonesian\")"
   ],
   "metadata": {
    "collapsed": false,
    "pycharm": {
     "name": "#%%\n"
    }
   }
  },
  {
   "cell_type": "code",
   "execution_count": 6,
   "outputs": [],
   "source": [
    "df_clean.to_excel(\"../Dataset/data_tweet.xlsx\")\n"
   ],
   "metadata": {
    "collapsed": false,
    "pycharm": {
     "name": "#%%\n"
    }
   }
  },
  {
   "cell_type": "code",
   "execution_count": 28,
   "outputs": [
    {
     "data": {
      "text/plain": "                                                  tweet  \\\n0     holywings kan mayoritas karyawannya muslim yai...   \n1                        hanya satu kata alhamdulillah    \n2     holywings tutup outlet seluruh indonesia tersi...   \n3     pihak berkuasa indonesia menutup operasi bar d...   \n4     kasus seperti iklan holywings mestinya adalah ...   \n...                                                 ...   \n3149  itulah bunda memberi nama anak jangan asal-asa...   \n3150  di indonesia soalnya sdh bnyk sesuatu atau org...   \n3151               selamat psm ewako - meteorbet - - -    \n3152  pagi nntn berita isinya penusukan ricuh di tan...   \n3153  mana bro yg bilang holywings boleh buka sejauh...   \n\n                                                 hastag  \n0                                                    []  \n1                                                    []  \n2                                                    []  \n3                                                    []  \n4                                                    []  \n...                                                 ...  \n3149                                                 []  \n3150                                                 []  \n3151  [#meteorbet88, #meteorbet88gilabola, #PSM, #PS...  \n3152                                                 []  \n3153                                                 []  \n\n[3154 rows x 2 columns]",
      "text/html": "<div>\n<style scoped>\n    .dataframe tbody tr th:only-of-type {\n        vertical-align: middle;\n    }\n\n    .dataframe tbody tr th {\n        vertical-align: top;\n    }\n\n    .dataframe thead th {\n        text-align: right;\n    }\n</style>\n<table border=\"1\" class=\"dataframe\">\n  <thead>\n    <tr style=\"text-align: right;\">\n      <th></th>\n      <th>tweet</th>\n      <th>hastag</th>\n    </tr>\n  </thead>\n  <tbody>\n    <tr>\n      <th>0</th>\n      <td>holywings kan mayoritas karyawannya muslim yai...</td>\n      <td>[]</td>\n    </tr>\n    <tr>\n      <th>1</th>\n      <td>hanya satu kata alhamdulillah</td>\n      <td>[]</td>\n    </tr>\n    <tr>\n      <th>2</th>\n      <td>holywings tutup outlet seluruh indonesia tersi...</td>\n      <td>[]</td>\n    </tr>\n    <tr>\n      <th>3</th>\n      <td>pihak berkuasa indonesia menutup operasi bar d...</td>\n      <td>[]</td>\n    </tr>\n    <tr>\n      <th>4</th>\n      <td>kasus seperti iklan holywings mestinya adalah ...</td>\n      <td>[]</td>\n    </tr>\n    <tr>\n      <th>...</th>\n      <td>...</td>\n      <td>...</td>\n    </tr>\n    <tr>\n      <th>3149</th>\n      <td>itulah bunda memberi nama anak jangan asal-asa...</td>\n      <td>[]</td>\n    </tr>\n    <tr>\n      <th>3150</th>\n      <td>di indonesia soalnya sdh bnyk sesuatu atau org...</td>\n      <td>[]</td>\n    </tr>\n    <tr>\n      <th>3151</th>\n      <td>selamat psm ewako - meteorbet - - -</td>\n      <td>[#meteorbet88, #meteorbet88gilabola, #PSM, #PS...</td>\n    </tr>\n    <tr>\n      <th>3152</th>\n      <td>pagi nntn berita isinya penusukan ricuh di tan...</td>\n      <td>[]</td>\n    </tr>\n    <tr>\n      <th>3153</th>\n      <td>mana bro yg bilang holywings boleh buka sejauh...</td>\n      <td>[]</td>\n    </tr>\n  </tbody>\n</table>\n<p>3154 rows × 2 columns</p>\n</div>"
     },
     "execution_count": 28,
     "metadata": {},
     "output_type": "execute_result"
    }
   ],
   "source": [
    "\"\"\"\n",
    "df = load_data(\"Voxpopdata.xlsx\")\n",
    "remove_user = remove_username(df,\"text\")\n",
    "clean_data = cleaning_data(remove_user,\"text\",False)\n",
    "remove_stop = remove_stopwords(clean_data,\"text\",\"indonesian\")\n",
    "toenize = generate_word(clean_data,\"text\")\n",
    "id2word = id_to_word(toenize)\n",
    "corpus = create_corpus(remove_stop,\"text\")\n",
    "vish = visualize(lda,corpus,id2word,\"mmds\",10,\"normal\")\n",
    "\n",
    "ldah = lda_model(corpus,id2word,25 )\n",
    "hastag = get_hastag(df,\"text\")\n",
    "wordcloud_maker(hastag,\"Set2\")\"\"\"\n"
   ],
   "metadata": {
    "collapsed": false,
    "pycharm": {
     "name": "#%%\n"
    }
   }
  },
  {
   "cell_type": "code",
   "execution_count": 31,
   "outputs": [
    {
     "name": "stderr",
     "output_type": "stream",
     "text": [
      "c:\\users\\w i n d o w s\\pycharmprojects\\pythonproject\\venv\\lib\\site-packages\\pyLDAvis\\_prepare.py:246: FutureWarning: In a future version of pandas all arguments of DataFrame.drop except for the argument 'labels' will be keyword-only.\n",
      "  default_term_info = default_term_info.sort_values(\n"
     ]
    }
   ],
   "source": [
    "from lda_model import Lda\n",
    "\n",
    "tokenize = Lda.generate_word(df_clean,\"tweet\")\n",
    "id2word = Lda.id_to_word(tokenize)\n",
    "corpus = Lda.create_corpus(df_clean,\"tweet\")\n",
    "lda_model = Lda.lda_model(corpus,id2word,15)\n",
    "visualise = Lda.visualize(lda_model,corpus,id2word,\"mmds\",10,\"15t\")"
   ],
   "metadata": {
    "collapsed": false,
    "pycharm": {
     "name": "#%%\n"
    }
   }
  }
 ],
 "metadata": {
  "kernelspec": {
   "display_name": "Python 3",
   "language": "python",
   "name": "python3"
  },
  "language_info": {
   "codemirror_mode": {
    "name": "ipython",
    "version": 2
   },
   "file_extension": ".py",
   "mimetype": "text/x-python",
   "name": "python",
   "nbconvert_exporter": "python",
   "pygments_lexer": "ipython2",
   "version": "2.7.6"
  }
 },
 "nbformat": 4,
 "nbformat_minor": 0
}