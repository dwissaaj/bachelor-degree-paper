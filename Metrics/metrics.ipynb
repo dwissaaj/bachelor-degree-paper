{
 "cells": [
  {
   "cell_type": "code",
   "execution_count": 2,
   "metadata": {
    "collapsed": true
   },
   "outputs": [],
   "source": [
    "from evaluate import evaluator\n",
    "from transformers import AutoModelForSequenceClassification , pipeline ,AutoTokenizer\n",
    "from datasets import load_dataset"
   ]
  },
  {
   "cell_type": "code",
   "execution_count": 18,
   "outputs": [
    {
     "data": {
      "text/plain": "Downloading builder script:   0%|          | 0.00/2.58k [00:00<?, ?B/s]",
      "application/vnd.jupyter.widget-view+json": {
       "version_major": 2,
       "version_minor": 0,
       "model_id": "f6cd5ce235494b3b9817cac2b51924f4"
      }
     },
     "metadata": {},
     "output_type": "display_data"
    },
    {
     "data": {
      "text/plain": "Downloading metadata:   0%|          | 0.00/1.61k [00:00<?, ?B/s]",
      "application/vnd.jupyter.widget-view+json": {
       "version_major": 2,
       "version_minor": 0,
       "model_id": "8ae20b84f2ff4b248d0f557520376151"
      }
     },
     "metadata": {},
     "output_type": "display_data"
    },
    {
     "name": "stdout",
     "output_type": "stream",
     "text": [
      "Downloading and preparing dataset conll2003/conll2003 (download: 959.94 KiB, generated: 9.78 MiB, post-processed: Unknown size, total: 10.72 MiB) to C:\\Users\\W I N D O W S\\.cache\\huggingface\\datasets\\conll2003\\conll2003\\1.0.0\\9a4d16a94f8674ba3466315300359b0acd891b68b6c8743ddf60b9c702adce98...\n"
     ]
    },
    {
     "data": {
      "text/plain": "Downloading data:   0%|          | 0.00/983k [00:00<?, ?B/s]",
      "application/vnd.jupyter.widget-view+json": {
       "version_major": 2,
       "version_minor": 0,
       "model_id": "9d4e2f11edde4f8c9a4d0c6636a43195"
      }
     },
     "metadata": {},
     "output_type": "display_data"
    },
    {
     "data": {
      "text/plain": "Generating train split:   0%|          | 0/14041 [00:00<?, ? examples/s]",
      "application/vnd.jupyter.widget-view+json": {
       "version_major": 2,
       "version_minor": 0,
       "model_id": "ef2c999b6d034b24b9afab2cd8735009"
      }
     },
     "metadata": {},
     "output_type": "display_data"
    },
    {
     "data": {
      "text/plain": "Generating validation split:   0%|          | 0/3250 [00:00<?, ? examples/s]",
      "application/vnd.jupyter.widget-view+json": {
       "version_major": 2,
       "version_minor": 0,
       "model_id": "e38286eb1f784458949fb966c96ed07f"
      }
     },
     "metadata": {},
     "output_type": "display_data"
    },
    {
     "data": {
      "text/plain": "Generating test split:   0%|          | 0/3453 [00:00<?, ? examples/s]",
      "application/vnd.jupyter.widget-view+json": {
       "version_major": 2,
       "version_minor": 0,
       "model_id": "34a89885939e4511b0fc4cbdc4bf76c0"
      }
     },
     "metadata": {},
     "output_type": "display_data"
    },
    {
     "name": "stdout",
     "output_type": "stream",
     "text": [
      "Dataset conll2003 downloaded and prepared to C:\\Users\\W I N D O W S\\.cache\\huggingface\\datasets\\conll2003\\conll2003\\1.0.0\\9a4d16a94f8674ba3466315300359b0acd891b68b6c8743ddf60b9c702adce98. Subsequent calls will reuse this data.\n"
     ]
    }
   ],
   "source": [
    "data = load_dataset(\"conll2003\", split=\"validation\").shuffle().select(range(1000))\n",
    "task_evaluator = evaluator(\"token-classification\")"
   ],
   "metadata": {
    "collapsed": false,
    "pycharm": {
     "name": "#%%\n"
    }
   }
  },
  {
   "cell_type": "code",
   "execution_count": 28,
   "outputs": [
    {
     "name": "stderr",
     "output_type": "stream",
     "text": [
      "Loading cached processed dataset at C:\\Users\\W I N D O W S\\.cache\\huggingface\\datasets\\conll2003\\conll2003\\1.0.0\\9a4d16a94f8674ba3466315300359b0acd891b68b6c8743ddf60b9c702adce98\\cache-6e7c86b2f188533f.arrow\n",
      "Asking to truncate to max_length but no maximum length is provided and the model has no predefined maximum length. Default to no truncation.\n",
      "c:\\users\\w i n d o w s\\pycharmprojects\\pythonproject\\venv\\lib\\site-packages\\seqeval\\metrics\\v1.py:57: UndefinedMetricWarning: Precision and F-score are ill-defined and being set to 0.0 in labels with no predicted samples. Use `zero_division` parameter to control this behavior.\n",
      "  _warn_prf(average, modifier, msg_start, len(result))\n",
      "c:\\users\\w i n d o w s\\pycharmprojects\\pythonproject\\venv\\lib\\site-packages\\seqeval\\metrics\\v1.py:57: UndefinedMetricWarning: Recall and F-score are ill-defined and being set to 0.0 in labels with no true samples. Use `zero_division` parameter to control this behavior.\n",
      "  _warn_prf(average, modifier, msg_start, len(result))\n"
     ]
    },
    {
     "data": {
      "text/plain": "                                                                              CRD  ... latency_in_seconds\ncahya/bert-base-indonesian-NER  {'precision': 0.0, 'recall': 0.0, 'f1': 0.0, '...  ...           0.228492\n\n[1 rows x 24 columns]",
      "text/html": "<div>\n<style scoped>\n    .dataframe tbody tr th:only-of-type {\n        vertical-align: middle;\n    }\n\n    .dataframe tbody tr th {\n        vertical-align: top;\n    }\n\n    .dataframe thead th {\n        text-align: right;\n    }\n</style>\n<table border=\"1\" class=\"dataframe\">\n  <thead>\n    <tr style=\"text-align: right;\">\n      <th></th>\n      <th>CRD</th>\n      <th>DAT</th>\n      <th>EVT</th>\n      <th>GPE</th>\n      <th>LAW</th>\n      <th>LOC</th>\n      <th>MISC</th>\n      <th>MON</th>\n      <th>NOR</th>\n      <th>ORD</th>\n      <th>ORG</th>\n      <th>PER</th>\n      <th>PRD</th>\n      <th>QTY</th>\n      <th>REG</th>\n      <th>TIM</th>\n      <th>WOA</th>\n      <th>overall_precision</th>\n      <th>overall_recall</th>\n      <th>overall_f1</th>\n      <th>overall_accuracy</th>\n      <th>total_time_in_seconds</th>\n      <th>samples_per_second</th>\n      <th>latency_in_seconds</th>\n    </tr>\n  </thead>\n  <tbody>\n    <tr>\n      <th>cahya/bert-base-indonesian-NER</th>\n      <td>{'precision': 0.0, 'recall': 0.0, 'f1': 0.0, '...</td>\n      <td>{'precision': 0.0, 'recall': 0.0, 'f1': 0.0, '...</td>\n      <td>{'precision': 0.0, 'recall': 0.0, 'f1': 0.0, '...</td>\n      <td>{'precision': 0.0, 'recall': 0.0, 'f1': 0.0, '...</td>\n      <td>{'precision': 0.0, 'recall': 0.0, 'f1': 0.0, '...</td>\n      <td>{'precision': 0.08888888888888889, 'recall': 0...</td>\n      <td>{'precision': 0.0, 'recall': 0.0, 'f1': 0.0, '...</td>\n      <td>{'precision': 0.0, 'recall': 0.0, 'f1': 0.0, '...</td>\n      <td>{'precision': 0.0, 'recall': 0.0, 'f1': 0.0, '...</td>\n      <td>{'precision': 0.0, 'recall': 0.0, 'f1': 0.0, '...</td>\n      <td>{'precision': 0.1664355062413315, 'recall': 0....</td>\n      <td>{'precision': 0.6837606837606838, 'recall': 0....</td>\n      <td>{'precision': 0.0, 'recall': 0.0, 'f1': 0.0, '...</td>\n      <td>{'precision': 0.0, 'recall': 0.0, 'f1': 0.0, '...</td>\n      <td>{'precision': 0.0, 'recall': 0.0, 'f1': 0.0, '...</td>\n      <td>{'precision': 0.0, 'recall': 0.0, 'f1': 0.0, '...</td>\n      <td>{'precision': 0.0, 'recall': 0.0, 'f1': 0.0, '...</td>\n      <td>0.138984</td>\n      <td>0.297297</td>\n      <td>0.189417</td>\n      <td>0.699275</td>\n      <td>228.492322</td>\n      <td>4.376515</td>\n      <td>0.228492</td>\n    </tr>\n  </tbody>\n</table>\n</div>"
     },
     "execution_count": 28,
     "metadata": {},
     "output_type": "execute_result"
    }
   ],
   "source": [
    "import pandas as pd\n",
    "models = [\n",
    "    \"cahya/bert-base-indonesian-NER\",\n",
    "]\n",
    "results = []\n",
    "for model in models:\n",
    "    results.append(\n",
    "        task_evaluator.compute(\n",
    "            model_or_pipeline=model, data=data, metric=\"seqeval\"\n",
    "            )\n",
    "        )\n",
    "\n",
    "df = pd.DataFrame(results, index=models)\n",
    "df[[\"overall_f1\", \"overall_accuracy\", \"total_time_in_seconds\", \"samples_per_second\", \"latency_in_seconds\"]]\n",
    "df"
   ],
   "metadata": {
    "collapsed": false,
    "pycharm": {
     "name": "#%%\n"
    }
   }
  },
  {
   "cell_type": "code",
   "execution_count": 30,
   "outputs": [],
   "source": [
    "df.to_excel(\"../Dataset/metric_ner.xlsx\")"
   ],
   "metadata": {
    "collapsed": false,
    "pycharm": {
     "name": "#%%\n"
    }
   }
  },
  {
   "cell_type": "code",
   "execution_count": null,
   "outputs": [],
   "source": [],
   "metadata": {
    "collapsed": false,
    "pycharm": {
     "name": "#%%\n"
    }
   }
  }
 ],
 "metadata": {
  "kernelspec": {
   "display_name": "Python 3",
   "language": "python",
   "name": "python3"
  },
  "language_info": {
   "codemirror_mode": {
    "name": "ipython",
    "version": 2
   },
   "file_extension": ".py",
   "mimetype": "text/x-python",
   "name": "python",
   "nbconvert_exporter": "python",
   "pygments_lexer": "ipython2",
   "version": "2.7.6"
  }
 },
 "nbformat": 4,
 "nbformat_minor": 0
}