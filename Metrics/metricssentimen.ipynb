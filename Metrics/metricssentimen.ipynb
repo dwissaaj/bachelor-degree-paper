{
 "cells": [
  {
   "cell_type": "code",
   "execution_count": 1,
   "metadata": {
    "collapsed": true
   },
   "outputs": [],
   "source": [
    "from evaluate import evaluator\n",
    "from transformers import AutoModelForSequenceClassification , pipeline ,AutoTokenizer\n",
    "from datasets import load_dataset"
   ]
  },
  {
   "cell_type": "code",
   "execution_count": 20,
   "outputs": [],
   "source": [
    "import pandas as pd\n",
    "pretrained= \"mdhugol/indonesia-bert-sentiment-classification\"\n",
    "tokenizer = AutoTokenizer.from_pretrained(pretrained)\n",
    "data = pd.read_csv(\"../Dataset/test_preprocess.tsv\", sep='\\t',header=1 )\n",
    "task_evaluator = evaluator(\"text-classification\")"
   ],
   "metadata": {
    "collapsed": false,
    "pycharm": {
     "name": "#%%\n"
    }
   }
  },
  {
   "cell_type": "code",
   "execution_count": 32,
   "outputs": [
    {
     "data": {
      "text/plain": "'\\nfrom transformers import PreTrainedTokenizer\\ntoken = PreTrainedTokenizer(model_max_length=512)\\nimport evaluate\\neval_results = task_evaluator.compute(\\n    model_or_pipeline=pretrained,\\n    data=data2,\\n    label_mapping={\\'LABEL_0\\': \\'POSITIVE\\', \\'LABEL_1\\': \\'NEUTRAL\\', \\'LABEL_2\\': \\'NEGATIVE\\'},\\n    metric=evaluate.combine([\"accuracy\", \"recall\", \"precision\", \"f1\"]),\\n    tokenizer=tokenizer\\n)\\n'"
     },
     "execution_count": 32,
     "metadata": {},
     "output_type": "execute_result"
    }
   ],
   "source": [
    "data = data.rename(columns={'kayak nya sih gue tidak akan mau balik lagi ke tempat itu . gila , ya , gue enggak ngerti kenapa tempat nya dibiarkan panas . sudah begitu kotor pula . kalau panas kepanasan , kalau hujan kehujanan . harus nya sih tidak ada restoran yang kayak gitu . tidak tahu deh apa yang mereka jual .': 'text', 'negative': 'label'})"
   ],
   "metadata": {
    "collapsed": false,
    "pycharm": {
     "name": "#%%\n"
    }
   }
  },
  {
   "cell_type": "code",
   "execution_count": 38,
   "outputs": [
    {
     "name": "stderr",
     "output_type": "stream",
     "text": [
      "Some weights of the model checkpoint at mdhugol/indonesia-bert-sentiment-classification were not used when initializing BertModel: ['classifier.bias', 'classifier.weight']\n",
      "- This IS expected if you are initializing BertModel from the checkpoint of a model trained on another task or with another architecture (e.g. initializing a BertForSequenceClassification model from a BertForPreTraining model).\n",
      "- This IS NOT expected if you are initializing BertModel from the checkpoint of a model that you expect to be exactly identical (initializing a BertForSequenceClassification model from a BertForSequenceClassification model).\n"
     ]
    },
    {
     "data": {
      "text/plain": "'\\nfrom transformers import PreTrainedTokenizer\\ntoken = PreTrainedTokenizer(model_max_length=512)\\nimport evaluate\\neval_results = task_evaluator.compute(\\n    model_or_pipeline=pretrained,\\n    data=data2,\\n    label_mapping={\\'LABEL_0\\': \\'POSITIVE\\', \\'LABEL_1\\': \\'NEUTRAL\\', \\'LABEL_2\\': \\'NEGATIVE\\'},\\n    metric=evaluate.combine([\"accuracy\", \"recall\", \"precision\", \"f1\"]),\\n    tokenizer=tokenizer\\n)\\n'"
     },
     "execution_count": 38,
     "metadata": {},
     "output_type": "execute_result"
    }
   ],
   "source": [
    "from transformers import AutoModel\n",
    "automodel = AutoModel.from_pretrained(pretrained).train()\n",
    "\n",
    "\"\"\"\n",
    "from transformers import PreTrainedTokenizer\n",
    "token = PreTrainedTokenizer(model_max_length=512)\n",
    "import evaluate\n",
    "eval_results = task_evaluator.compute(\n",
    "    model_or_pipeline=pretrained,\n",
    "    data=data2,\n",
    "    label_mapping={'LABEL_0': 'POSITIVE', 'LABEL_1': 'NEUTRAL', 'LABEL_2': 'NEGATIVE'},\n",
    "    metric=evaluate.combine([\"accuracy\", \"recall\", \"precision\", \"f1\"]),\n",
    "    tokenizer=tokenizer\n",
    ")\n",
    "\"\"\"\n",
    "\n"
   ],
   "metadata": {
    "collapsed": false,
    "pycharm": {
     "name": "#%%\n"
    }
   }
  }
 ],
 "metadata": {
  "kernelspec": {
   "display_name": "Python 3",
   "language": "python",
   "name": "python3"
  },
  "language_info": {
   "codemirror_mode": {
    "name": "ipython",
    "version": 2
   },
   "file_extension": ".py",
   "mimetype": "text/x-python",
   "name": "python",
   "nbconvert_exporter": "python",
   "pygments_lexer": "ipython2",
   "version": "2.7.6"
  }
 },
 "nbformat": 4,
 "nbformat_minor": 0
}